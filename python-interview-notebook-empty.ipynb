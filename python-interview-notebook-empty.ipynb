{
 "cells": [
  {
   "cell_type": "markdown",
   "metadata": {},
   "source": [
    "### 1.1\n",
    "What is the value of $\\sqrt{2}^{\\sqrt{2}^{{\\sqrt{2}^{...}}}}$?"
   ]
  },
  {
   "cell_type": "code",
   "execution_count": 1,
   "metadata": {},
   "outputs": [
    {
     "data": {
      "text/plain": [
       "2.0000000000000004"
      ]
     },
     "execution_count": 1,
     "metadata": {},
     "output_type": "execute_result"
    }
   ],
   "source": [
    "import math\n",
    "a=math.sqrt(2)\n",
    "value=math.sqrt(2)\n",
    "for i in range(1000):\n",
    "    value=a**value\n",
    "value"
   ]
  },
  {
   "cell_type": "markdown",
   "metadata": {},
   "source": [
    "### 3.1\n",
    "You have a bag with two coins. One will come up heads 40% of the time, and the other will come up heads 60%. You pick a coin randomly, flip it and get a head. What is the probability it will be heads on the next flip?"
   ]
  },
  {
   "cell_type": "code",
   "execution_count": 2,
   "metadata": {},
   "outputs": [
    {
     "data": {
      "text/plain": [
       "0.52104"
      ]
     },
     "execution_count": 2,
     "metadata": {},
     "output_type": "execute_result"
    }
   ],
   "source": [
    "import numpy as np\n",
    "class Coin(object):\n",
    "    def __init__ (self,p):\n",
    "        self.prob_heads=p\n",
    "    def flip_is_head(self):\n",
    "        return np.random.random()<self.prob_heads\n",
    "    def __repr__ (self):\n",
    "        return 'The coin has probality of heads='+str(self.prob_heads)\n",
    "\n",
    "class Bag_of_coins(object):\n",
    "    def __init__(self):\n",
    "        self.coins=[]\n",
    "    def add_coin(self,coin):\n",
    "        self.coins.append(coin)\n",
    "    def pick_random_coin(self):\n",
    "        return np.random.choice(self.coins)\n",
    "    \n",
    "bag=Bag_of_coins()\n",
    "bag.add_coin(Coin(0.4))\n",
    "bag.add_coin(Coin(0.6))\n",
    "\n",
    "num_trials=100000\n",
    "trial_ctr=0\n",
    "head_ctr=0\n",
    "while trial_ctr < num_trials:\n",
    "    coin=bag.pick_random_coin()\n",
    "    if coin.flip_is_head():\n",
    "        trial_ctr+=1\n",
    "        if coin.flip_is_head():\n",
    "            head_ctr+=1\n",
    "head_ctr/trial_ctr\n",
    "    \n",
    "    "
   ]
  },
  {
   "cell_type": "markdown",
   "metadata": {},
   "source": [
    "### 3.5\n",
    "Starting at one vertex of a cube, and moving randomly from vertex to adjacent vertices, what is the expected number of moves until you reach the  vertex opposite from your starting point?"
   ]
  },
  {
   "cell_type": "code",
   "execution_count": null,
   "metadata": {
    "collapsed": true
   },
   "outputs": [],
   "source": []
  },
  {
   "cell_type": "markdown",
   "metadata": {},
   "source": [
    "### 3.8\n",
    "You have a spinner that generates random numbers that are uniform between 0 and 1. You sum the spins until the sum is greater than one. What is the expected number of spins?"
   ]
  },
  {
   "cell_type": "code",
   "execution_count": 53,
   "metadata": {},
   "outputs": [
    {
     "data": {
      "image/png": "[encoded data removed]",
      "text/plain": [
       "<matplotlib.figure.Figure at 0x187335403c8>"
      ]
     },
     "metadata": {},
     "output_type": "display_data"
    }
   ],
   "source": [
    "import numpy as np\n",
    "import matplotlib.pyplot as plt\n",
    "\n",
    "number_of_trials=100000\n",
    "trial_result=[]\n",
    "for i in range(number_of_trials):\n",
    "    spin_times=0\n",
    "    sumofspin=0\n",
    "    while sumofspin<=1:\n",
    "        sumofspin+=np.random.random()\n",
    "        spin_times+=1\n",
    "    trial_result.append(spin_times)\n",
    "\n",
    "result_bins=np.max(trial_result)-np.min(trial_result)+1\n",
    "plt.hist(trial_result,bins=result_bins,normed=True,align='left',rwidth=0.2,range=(2,2+result_bins))\n",
    "plt.show()\n"
   ]
  },
  {
   "cell_type": "markdown",
   "metadata": {},
   "source": [
    "### 3.10\n",
    "A stick is broken randomly into 3 pieces. What is the probability of the pieces being able to form a triangle?"
   ]
  },
  {
   "cell_type": "code",
   "execution_count": null,
   "metadata": {
    "collapsed": true
   },
   "outputs": [],
   "source": []
  },
  {
   "cell_type": "markdown",
   "metadata": {},
   "source": [
    "### 3.11\n",
    "A stick is broken randomly into two pieces. The larger piece is then broken randomly into two pieces. What is the probability of the pieces being able to form a triangle?"
   ]
  },
  {
   "cell_type": "code",
   "execution_count": null,
   "metadata": {
    "collapsed": true
   },
   "outputs": [],
   "source": []
  },
  {
   "cell_type": "markdown",
   "metadata": {},
   "source": [
    "### 3.12\n",
    "\n",
    "This is based on a Goldman Sachs interview question. You play a game\n",
    "where you toss two fair coins in the air. You always win $1. However, if you\n",
    "have tossed 2 heads at least once, and 2 tails at least once, you surrender all\n",
    "winnings, and cannot play again. You may stop playing at anytime. What’s\n",
    "your strategy?\n"
   ]
  },
  {
   "cell_type": "code",
   "execution_count": 18,
   "metadata": {},
   "outputs": [
    {
     "name": "stdout",
     "output_type": "stream",
     "text": [
      "0.94\n"
     ]
    },
    {
     "data": {
      "image/png": "[encoded data removed]",
      "text/plain": [
       "<matplotlib.figure.Figure at 0x1a74667b668>"
      ]
     },
     "metadata": {},
     "output_type": "display_data"
    }
   ],
   "source": [
    "import numpy as np\n",
    "import matplotlib.pyplot as plt\n",
    "\n",
    "class TwoDiceGame(object):\n",
    "    def play(self):\n",
    "        winnings=0\n",
    "        two_of_same_seen=False\n",
    "        while True:\n",
    "            if two_of_same_seen:\n",
    "                if winnings >=3:\n",
    "                    #our strategy : quit if we have 3+ in this case\n",
    "                    return winnings\n",
    "                if np.random.randint(4)==0:\n",
    "                    #bad luck:both HH and TT seen, lost it all\n",
    "                    return 0\n",
    "            else:\n",
    "                two_of_same_seen = np.random.randint(2)==0\n",
    "                winnings+=1\n",
    "                \n",
    "game=TwoDiceGame()\n",
    "num_trials=1000\n",
    "trials=[game.play() for _ in range(num_trials)]\n",
    "num_bins=np.max(trials)-np.min(trials)+1\n",
    "\n",
    "print(np.mean(trials))\n",
    "\n",
    "plt.hist(trials, bins=num_bins, normed=True, align='left', rwidth=0.2, range=(2,2+num_bins))\n",
    "plt.show()"
   ]
  },
  {
   "cell_type": "markdown",
   "metadata": {},
   "source": [
    "### 5.2\n",
    "You have a basket of $n$ assets. The asset returns are multivariate normal with zero mean. Correlation between any pair of assets is 1/2. What is the probability that $k$ of the assets will have positive return?"
   ]
  },
  {
   "cell_type": "code",
   "execution_count": null,
   "metadata": {
    "collapsed": true
   },
   "outputs": [],
   "source": []
  }
 ],
 "metadata": {
  "kernelspec": {
   "display_name": "Python 3",
   "language": "python",
   "name": "python3"
  },
  "language_info": {
   "codemirror_mode": {
    "name": "ipython",
    "version": 3
   },
   "file_extension": ".py",
   "mimetype": "text/x-python",
   "name": "python",
   "nbconvert_exporter": "python",
   "pygments_lexer": "ipython3",
   "version": "3.6.1"
  }
 },
 "nbformat": 4,
 "nbformat_minor": 1
}
