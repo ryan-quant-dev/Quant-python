{
 "cells": [
  {
   "cell_type": "markdown",
   "metadata": {},
   "source": [
    "## Hyper-ants: ants traveling in hyperspace\n",
    "An ant is at the origin in n-dimensional Euclidean space, and is about to traverse the edges of a hypercube with sides of unit length. At each vertex, the ant randomly choose an edge, and moves to the next vertex. n average, how far will the ant travel until it reaches (1,1,....1)"
   ]
  },
  {
   "cell_type": "code",
   "execution_count": 21,
   "metadata": {},
   "outputs": [
    {
     "data": {
      "text/plain": [
       "{2: 50172,\n",
       " 4: 25063,\n",
       " 6: 12144,\n",
       " 8: 6323,\n",
       " 10: 3120,\n",
       " 12: 1583,\n",
       " 14: 749,\n",
       " 16: 426,\n",
       " 18: 199,\n",
       " 20: 106,\n",
       " 22: 54,\n",
       " 24: 23,\n",
       " 26: 16,\n",
       " 28: 13,\n",
       " 30: 6,\n",
       " 32: 3}"
      ]
     },
     "execution_count": 21,
     "metadata": {},
     "output_type": "execute_result"
    }
   ],
   "source": [
    "from random import randint\n",
    "def number_of_moves(dimension):\n",
    "    #return the number of moves needed for one simulated trip by the ant.\n",
    "    vertex=[0]*dimension #generate a list with a length of \"dimension\"\n",
    "    move_count=0\n",
    "    while sum(vertex)<dimension:\n",
    "        axis_choice=randint(0,dimension-1)\n",
    "        vertex[axis_choice]=1-vertex[axis_choice]\n",
    "        move_count+=1\n",
    "    return move_count\n",
    "\n",
    "number_of_trials=100000 \n",
    "trials = [number_of_moves(2) for i in range(number_of_trials)]\n",
    "#initialize dictionary to count frequency of number of moves\n",
    "number_moves_count={trial:0 for trial in trials}\n",
    "for trial in trials:\n",
    "    number_moves_count[trial] +=1\n",
    "\n",
    "number_moves_count"
   ]
  },
  {
   "cell_type": "code",
   "execution_count": null,
   "metadata": {
    "collapsed": true
   },
   "outputs": [],
   "source": []
  },
  {
   "cell_type": "code",
   "execution_count": null,
   "metadata": {
    "collapsed": true
   },
   "outputs": [],
   "source": []
  },
  {
   "cell_type": "code",
   "execution_count": null,
   "metadata": {
    "collapsed": true
   },
   "outputs": [],
   "source": []
  }
 ],
 "metadata": {
  "kernelspec": {
   "display_name": "Python 3",
   "language": "python",
   "name": "python3"
  },
  "language_info": {
   "codemirror_mode": {
    "name": "ipython",
    "version": 3
   },
   "file_extension": ".py",
   "mimetype": "text/x-python",
   "name": "python",
   "nbconvert_exporter": "python",
   "pygments_lexer": "ipython3",
   "version": "3.6.1"
  }
 },
 "nbformat": 4,
 "nbformat_minor": 2
}
